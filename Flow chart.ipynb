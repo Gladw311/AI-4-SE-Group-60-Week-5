{
  "nbformat": 4,
  "nbformat_minor": 0,
  "metadata": {
    "colab": {
      "provenance": []
    },
    "kernelspec": {
      "name": "python3",
      "display_name": "Python 3"
    },
    "language_info": {
      "name": "python"
    }
  },
  "cells": [
    {
      "cell_type": "code",
      "execution_count": null,
      "metadata": {
        "id": "Ecw6SMSMByC5"
      },
      "outputs": [],
      "source": []
    },
    {
      "cell_type": "markdown",
      "source": [
        "Flow chart\n",
        "\n",
        "+---------------------+\n",
        "|  Problem Definition |\n",
        "+---------------------+\n",
        "           ↓\n",
        "+---------------------+\n",
        "|   Data Collection   |\n",
        "+---------------------+\n",
        "           ↓\n",
        "+---------------------+\n",
        "| Data Preprocessing  |\n",
        "+---------------------+\n",
        "           ↓\n",
        "+---------------------+\n",
        "|   Model Selection   |\n",
        "+---------------------+\n",
        "           ↓\n",
        "+---------------------+\n",
        "|   Model Training    |\n",
        "+---------------------+\n",
        "           ↓\n",
        "+---------------------+\n",
        "|  Model Evaluation   |\n",
        "+---------------------+\n",
        "           ↓\n",
        "+---------------------+\n",
        "|     Deployment      |\n",
        "+---------------------+\n",
        "           ↓\n",
        "+-----------------------------+\n",
        "| Monitoring & Maintenance   |\n",
        "+-----------------------------+\n"
      ],
      "metadata": {
        "id": "7Tc0peDmBynF"
      }
    }
  ]
}
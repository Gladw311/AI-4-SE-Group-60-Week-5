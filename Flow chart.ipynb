{
  "nbformat": 4,
  "nbformat_minor": 0,
  "metadata": {
    "colab": {
      "provenance": [],
      "authorship_tag": "ABX9TyO4jtwolRkY6xo5IwUYbWug",
      "include_colab_link": true
    },
    "kernelspec": {
      "name": "python3",
      "display_name": "Python 3"
    },
    "language_info": {
      "name": "python"
    }
  },
  "cells": [
    {
      "cell_type": "markdown",
      "metadata": {
        "id": "view-in-github",
        "colab_type": "text"
      },
      "source": [
        "<a href=\"https://colab.research.google.com/github/Gladw311/AI-4-SE-Group-60-Week-5/blob/main/Flow%20chart.ipynb\" target=\"_parent\"><img src=\"https://colab.research.google.com/assets/colab-badge.svg\" alt=\"Open In Colab\"/></a>"
      ]
    },
    {
      "cell_type": "code",
      "execution_count": null,
      "metadata": {
        "id": "vfNtlp-GBJtO"
      },
      "outputs": [],
      "source": []
    },
    {
      "cell_type": "markdown",
      "source": [
        "Flow chart\n",
        "\n",
        "+---------------------+\n",
        "|  Problem Definition |\n",
        "+---------------------+\n",
        "           ↓\n",
        "+---------------------+\n",
        "|   Data Collection   |\n",
        "+---------------------+\n",
        "           ↓\n",
        "+---------------------+\n",
        "| Data Preprocessing  |\n",
        "+---------------------+\n",
        "           ↓\n",
        "+---------------------+\n",
        "|   Model Selection   |\n",
        "+---------------------+\n",
        "           ↓\n",
        "+---------------------+\n",
        "|   Model Training    |\n",
        "+---------------------+\n",
        "           ↓\n",
        "+---------------------+\n",
        "|  Model Evaluation   |\n",
        "+---------------------+\n",
        "           ↓\n",
        "+---------------------+\n",
        "|     Deployment      |\n",
        "+---------------------+\n",
        "           ↓\n",
        "+-----------------------------+\n",
        "| Monitoring & Maintenance   |\n",
        "+-----------------------------+\n",
        "\n"
      ],
      "metadata": {
        "id": "-JQ_Gzp5BKMu"
      }
    }
  ]
}